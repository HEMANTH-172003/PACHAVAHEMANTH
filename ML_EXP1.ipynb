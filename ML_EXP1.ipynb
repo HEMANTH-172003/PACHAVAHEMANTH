{
  "nbformat": 4,
  "nbformat_minor": 0,
  "metadata": {
    "colab": {
      "provenance": [],
      "authorship_tag": "ABX9TyMk9cLvnMeeR+gTaoGOAXsR",
      "include_colab_link": true
    },
    "kernelspec": {
      "name": "python3",
      "display_name": "Python 3"
    },
    "language_info": {
      "name": "python"
    }
  },
  "cells": [
    {
      "cell_type": "markdown",
      "metadata": {
        "id": "view-in-github",
        "colab_type": "text"
      },
      "source": [
        "<a href=\"https://colab.research.google.com/github/PACHAVAHEMANTH/PACHAVAHEMANTH/blob/main/ML_EXP1.ipynb\" target=\"_parent\"><img src=\"https://colab.research.google.com/assets/colab-badge.svg\" alt=\"Open In Colab\"/></a>"
      ]
    },
    {
      "cell_type": "markdown",
      "source": [
        "# New Section"
      ],
      "metadata": {
        "id": "rtCsekOSi95c"
      }
    },
    {
      "cell_type": "code",
      "source": [
        "import pandas as pd\n",
        "import numpy as np"
      ],
      "metadata": {
        "id": "TwH6Sq6ykklm"
      },
      "execution_count": null,
      "outputs": []
    },
    {
      "cell_type": "code",
      "source": [
        "d = pd.read_csv(\"enjoysport.csv\")\n",
        "print(d)"
      ],
      "metadata": {
        "colab": {
          "base_uri": "https://localhost:8080/"
        },
        "id": "fZeZjPiVktC9",
        "outputId": "a265fc00-9826-42cf-a608-449e6abba9ce"
      },
      "execution_count": null,
      "outputs": [
        {
          "output_type": "stream",
          "name": "stdout",
          "text": [
            "     sky air_temp humidity    wind water forecast enjoy_sport\n",
            "0  sunny     warm   normal  strong  warm     same         yes\n",
            "1  sunny     warm     high  strong  warm     same         yes\n",
            "2  rainy     cold     high  strong  warm   change          no\n",
            "3  sunny     warm     high  strong  cool   change         yes\n"
          ]
        }
      ]
    },
    {
      "cell_type": "code",
      "source": [
        "a = np.array(d)[:,:-1]\n",
        "print(\" The attributes are: \",a)"
      ],
      "metadata": {
        "colab": {
          "base_uri": "https://localhost:8080/"
        },
        "id": "av-H9XLAkthd",
        "outputId": "1782194d-616e-466c-f4cb-3d29d0f1cda9"
      },
      "execution_count": null,
      "outputs": [
        {
          "output_type": "stream",
          "name": "stdout",
          "text": [
            " The attributes are:  [['sunny' 'warm' 'normal' 'strong' 'warm' 'same']\n",
            " ['sunny' 'warm' 'high' 'strong' 'warm' 'same']\n",
            " ['rainy' 'cold' 'high' 'strong' 'warm' 'change']\n",
            " ['sunny' 'warm' 'high' 'strong' 'cool' 'change']]\n"
          ]
        }
      ]
    },
    {
      "cell_type": "code",
      "source": [
        "t = np.array(d)[:,-1]\n",
        "print(\"The target is: \",t)"
      ],
      "metadata": {
        "colab": {
          "base_uri": "https://localhost:8080/"
        },
        "id": "_d9j6gaIktlN",
        "outputId": "083cc516-a360-45ea-9732-5a62c4861d2c"
      },
      "execution_count": null,
      "outputs": [
        {
          "output_type": "stream",
          "name": "stdout",
          "text": [
            "The target is:  ['yes' 'yes' 'no' 'yes']\n"
          ]
        }
      ]
    },
    {
      "cell_type": "code",
      "source": [
        "def train(c,t):\n",
        " for i, val in enumerate(t):\n",
        "  if val == \"Yes\":\n",
        "    specific_hypothesis = c[i].copy()\n",
        "    break\n",
        "\n",
        " for i, val in enumerate(c):\n",
        "  if t[i] == \"Yes\":\n",
        "    for x in range(len(specific_hypothesis)):\n",
        "      if val[x] != specific_hypothesis[x]:\n",
        "        specific_hypothesis[x] = '?'\n",
        "      else:\n",
        "          pass\n",
        "    return specific_hypothesis\n",
        "print(\" The final hypothesis is:\",train(a,t))"
      ],
      "metadata": {
        "colab": {
          "base_uri": "https://localhost:8080/"
        },
        "id": "iIfUe1IWlDek",
        "outputId": "6f44050b-49aa-4f5c-9d3e-3bb47575966d"
      },
      "execution_count": null,
      "outputs": [
        {
          "output_type": "stream",
          "name": "stdout",
          "text": [
            " The final hypothesis is: None\n"
          ]
        }
      ]
    },
    {
      "cell_type": "code",
      "source": [
        "import numpy as np\n",
        "\n",
        "import pandas as pd\n",
        "\n",
        "data = pd.DataFrame(data=pd.read_csv('enjoysport.csv'))\n",
        "print(data)\n",
        "\n",
        "concepts = np.array(data.iloc[:,:-1])\n",
        "\n",
        "target = np.array(data.iloc[:, -1])\n",
        "\n",
        "print(target)\n",
        "\n",
        "print(concepts)\n",
        "def learn(concepts, target):\n",
        "  specific_h = concepts[0].copy()\n",
        "\n",
        "  print(\"Initialization of specific_h and general_h\")\n",
        "  print(\"specific_h: \", specific_h)\n",
        "\n",
        "  general_h = [[\"?\" for i in range(len(specific_h))] for i in range(len(specific_h))]\n",
        "\n",
        "  print(\"general_h: \", general_h)\n",
        "\n",
        "  print(\"concepts: \", concepts)\n",
        "\n",
        "  for i, h in enumerate (concepts):\n",
        "\n",
        "    if target[i] == \"Yes\":\n",
        "\n",
        "      for x in range(len(specific_h)): #print(\"h[x]\",h[x])\n",
        "\n",
        "          if h[x] != specific_h[x]:\n",
        "\n",
        "              specific_h[x] = '?'\n",
        "              general_h[x][x] = '?'\n",
        "      if target[i] == \"no\":\n",
        "\n",
        "        for x in range(len(specific_h)):\n",
        "\n",
        "          if h[x] != specific_h[x]:\n",
        "            general_h[x][x] = specific_h[x]\n",
        "          else:\n",
        "            general_h[x] [x] = '?'\n",
        "\n",
        "  print(\"\\nSteps of Candidate Elimination Algorithm: \",i+1)\n",
        "\n",
        "  print(\"Specific_h: \",i+1)\n",
        "\n",
        "  print(specific_h,\"\\n\")\n",
        "\n",
        "  print(\"general_h\", i+1)\n",
        "\n",
        "  print (general_h)\n",
        "\n",
        "  indices = [i for i, val in enumerate (general_h) if val ==['?', '?', '?', '?', '?', '?']]\n",
        "  print(\"\\nIndices\", indices)\n",
        "  for i in indices:\n",
        "    general_h.remove(['?', '?', '?', '?', '?', '?'])\n",
        "\n",
        "  return specific_h, general_h\n",
        "s_final, g_final=learn (concepts, target)\n",
        "print(\"\\nFinal Specific_h:\", s_final, sep=\"\\n\")\n",
        "print(\"Final General_h:\", g_final, sep=\"\\n\")\n"
      ],
      "metadata": {
        "colab": {
          "base_uri": "https://localhost:8080/"
        },
        "id": "GtpWZDGawQO3",
        "outputId": "0ddc9090-3129-486f-9a5f-fe5e44e6ef14"
      },
      "execution_count": null,
      "outputs": [
        {
          "output_type": "stream",
          "name": "stdout",
          "text": [
            "     sky air_temp humidity    wind water forecast enjoy_sport\n",
            "0  sunny     warm   normal  strong  warm     same         yes\n",
            "1  sunny     warm     high  strong  warm     same         yes\n",
            "2  rainy     cold     high  strong  warm   change          no\n",
            "3  sunny     warm     high  strong  cool   change         yes\n",
            "['yes' 'yes' 'no' 'yes']\n",
            "[['sunny' 'warm' 'normal' 'strong' 'warm' 'same']\n",
            " ['sunny' 'warm' 'high' 'strong' 'warm' 'same']\n",
            " ['rainy' 'cold' 'high' 'strong' 'warm' 'change']\n",
            " ['sunny' 'warm' 'high' 'strong' 'cool' 'change']]\n",
            "Initialization of specific_h and general_h\n",
            "specific_h:  ['sunny' 'warm' 'normal' 'strong' 'warm' 'same']\n",
            "general_h:  [['?', '?', '?', '?', '?', '?'], ['?', '?', '?', '?', '?', '?'], ['?', '?', '?', '?', '?', '?'], ['?', '?', '?', '?', '?', '?'], ['?', '?', '?', '?', '?', '?'], ['?', '?', '?', '?', '?', '?']]\n",
            "concepts:  [['sunny' 'warm' 'normal' 'strong' 'warm' 'same']\n",
            " ['sunny' 'warm' 'high' 'strong' 'warm' 'same']\n",
            " ['rainy' 'cold' 'high' 'strong' 'warm' 'change']\n",
            " ['sunny' 'warm' 'high' 'strong' 'cool' 'change']]\n",
            "\n",
            "Steps of Candidate Elimination Algorithm:  4\n",
            "Specific_h:  4\n",
            "['sunny' 'warm' 'normal' 'strong' 'warm' 'same'] \n",
            "\n",
            "general_h 4\n",
            "[['?', '?', '?', '?', '?', '?'], ['?', '?', '?', '?', '?', '?'], ['?', '?', '?', '?', '?', '?'], ['?', '?', '?', '?', '?', '?'], ['?', '?', '?', '?', '?', '?'], ['?', '?', '?', '?', '?', '?']]\n",
            "\n",
            "Indices [0, 1, 2, 3, 4, 5]\n",
            "\n",
            "Final Specific_h:\n",
            "['sunny' 'warm' 'normal' 'strong' 'warm' 'same']\n",
            "Final General_h:\n",
            "[]\n"
          ]
        }
      ]
    },
    {
      "cell_type": "markdown",
      "source": [
        "# New Section"
      ],
      "metadata": {
        "id": "5VdnPZlii_B2"
      }
    }
  ]
}